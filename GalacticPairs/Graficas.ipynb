{
 "cells": [
  {
   "cell_type": "code",
   "execution_count": 1,
   "metadata": {
    "collapsed": false
   },
   "outputs": [
    {
     "name": "stdout",
     "output_type": "stream",
     "text": [
      "Populating the interactive namespace from numpy and matplotlib\n"
     ]
    }
   ],
   "source": [
    "%pylab inline"
   ]
  },
  {
   "cell_type": "code",
   "execution_count": 2,
   "metadata": {
    "collapsed": false
   },
   "outputs": [],
   "source": [
    "d = np.genfromtxt('data.txt')\n",
    "data = d[1:len(d[:])][:]\n",
    "\n",
    "indices = np.loadtxt('pares.txt', dtype=int)"
   ]
  },
  {
   "cell_type": "code",
   "execution_count": 3,
   "metadata": {
    "collapsed": false
   },
   "outputs": [],
   "source": [
    "posiciones = data[0:len(data[:]),0:3]\n",
    "velocidades = data[0:len(data[:]),3:6]\n",
    "masa = data[0:len(data[:]),6:7]"
   ]
  },
  {
   "cell_type": "markdown",
   "metadata": {},
   "source": [
    "### Calculo de Distancias "
   ]
  },
  {
   "cell_type": "code",
   "execution_count": 4,
   "metadata": {
    "collapsed": false
   },
   "outputs": [],
   "source": [
    "pos1 = posiciones[indices[:,0]]\n",
    "pos2 = posiciones[indices[:,1]]\n",
    "\n",
    "r = pos1 - pos2"
   ]
  },
  {
   "cell_type": "code",
   "execution_count": 5,
   "metadata": {
    "collapsed": true
   },
   "outputs": [],
   "source": [
    "r1 = r[:,0]\n",
    "r2 = r[:,1]\n",
    "r3 = r[:,2]\n",
    "\n",
    "R = sqrt(r1**2+r2**2+r3**2)\n",
    "#np.savetxt('distancia.txt',R)"
   ]
  },
  {
   "cell_type": "markdown",
   "metadata": {},
   "source": [
    "### Vector Unitario"
   ]
  },
  {
   "cell_type": "code",
   "execution_count": 6,
   "metadata": {
    "collapsed": true
   },
   "outputs": [],
   "source": [
    "runi1 = r1/R\n",
    "runi2 = r2/R\n",
    "runi3 = r3/R\n",
    "\n",
    "runi = (runi1,runi2,runi3)\n",
    "RUNI = transpose(runi)"
   ]
  },
  {
   "cell_type": "code",
   "execution_count": 7,
   "metadata": {
    "collapsed": false
   },
   "outputs": [
    {
     "data": {
      "text/plain": [
       "<matplotlib.text.Text at 0x1072847f0>"
      ]
     },
     "execution_count": 7,
     "metadata": {},
     "output_type": "execute_result"
    },
    {
     "data": {
      "image/png": "[encoded data removed]",
      "text/plain": [
       "<matplotlib.figure.Figure at 0x10729c240>"
      ]
     },
     "metadata": {},
     "output_type": "display_data"
    }
   ],
   "source": [
    "plt.hist(R,bins = 10000)\n",
    "plt.xlim(0,10)\n",
    "ylabel(r'Distance $D[Mpch]$')\n",
    "#xlabel(r'Pares')"
   ]
  },
  {
   "cell_type": "markdown",
   "metadata": {},
   "source": [
    "### Calculo de Masa"
   ]
  },
  {
   "cell_type": "code",
   "execution_count": 8,
   "metadata": {
    "collapsed": true
   },
   "outputs": [],
   "source": [
    "masa1 = masa[indices[:,0]]\n",
    "masa2 = masa[indices[:,1]]\n",
    "MasaT = masa1 + masa2\n",
    "\n",
    "#np.savetxt('MasaTotal.txt',MasaT)"
   ]
  },
  {
   "cell_type": "code",
   "execution_count": 9,
   "metadata": {
    "collapsed": false
   },
   "outputs": [
    {
     "data": {
      "text/plain": [
       "(10, 14)"
      ]
     },
     "execution_count": 9,
     "metadata": {},
     "output_type": "execute_result"
    },
    {
     "data": {
      "image/png": "[encoded data removed]",
      "text/plain": [
       "<matplotlib.figure.Figure at 0x118c742e8>"
      ]
     },
     "metadata": {},
     "output_type": "display_data"
    }
   ],
   "source": [
    "plt.hist(log10(MasaT),bins=1000)\n",
    "xlim(10,14)"
   ]
  },
  {
   "cell_type": "markdown",
   "metadata": {},
   "source": [
    "### Calculo de Velocidades Relativas"
   ]
  },
  {
   "cell_type": "code",
   "execution_count": 10,
   "metadata": {
    "collapsed": true
   },
   "outputs": [],
   "source": [
    "vel1 = velocidades[indices[:,0]]\n",
    "vel2 = velocidades[indices[:,1]]\n",
    "\n",
    "VelR = vel1 - vel2\n",
    "VelRx = VelR[:,0]\n",
    "VelRy = VelR[:,1]\n",
    "VelRz = VelR[:,2]\n",
    "\n",
    "VelRA = np.sqrt(VelRx**2+VelRy**2+VelRz**2)\n",
    "\n",
    "\n",
    "#np.savetxt('VelRelaAbs.txt', VelRA)"
   ]
  },
  {
   "cell_type": "markdown",
   "metadata": {},
   "source": [
    "### Velocidades Paralelas y Perpendiculares"
   ]
  },
  {
   "cell_type": "code",
   "execution_count": 11,
   "metadata": {
    "collapsed": false
   },
   "outputs": [
    {
     "data": {
      "text/plain": [
       "(0, 350)"
      ]
     },
     "execution_count": 11,
     "metadata": {},
     "output_type": "execute_result"
    },
    {
     "data": {
      "image/png": "[encoded data removed]",
      "text/plain": [
       "<matplotlib.figure.Figure at 0x115101cc0>"
      ]
     },
     "metadata": {},
     "output_type": "display_data"
    }
   ],
   "source": [
    "Vparalela = RUNI[:,0]*VelR[:,0] + RUNI[:,1]*VelR[:,1] + RUNI[:,2]*VelR[:,2]\n",
    "VparalelaVec1 = RUNI[:,0]*Vparalela, RUNI[:,1]*Vparalela, RUNI[:,2]*Vparalela\n",
    "VparalelaVec = np.transpose(VparalelaVec1)\n",
    "\n",
    "#np.savetxt('VelParalela.txt',Vparalela)\n",
    "\n",
    "plt.hist(Vparalela,bins = 10000,color='g')\n",
    "plt.xlim(0,350)"
   ]
  },
  {
   "cell_type": "code",
   "execution_count": 12,
   "metadata": {
    "collapsed": false
   },
   "outputs": [
    {
     "data": {
      "text/plain": [
       "(0.5, 4)"
      ]
     },
     "execution_count": 12,
     "metadata": {},
     "output_type": "execute_result"
    },
    {
     "data": {
      "image/png": "[encoded data removed]",
      "text/plain": [
       "<matplotlib.figure.Figure at 0x114175eb8>"
      ]
     },
     "metadata": {},
     "output_type": "display_data"
    }
   ],
   "source": [
    "VperpernVec = VelR - VparalelaVec\n",
    "Vperpendicular = np.sqrt(VperpernVec[:,0]**2+VperpernVec[:,1]**2+VperpernVec[:,2]**2)\n",
    "\n",
    "#np.savetxt('VelPerpendicular.txt',Vperpendicular)\n",
    "\n",
    "plt.hist(log10(Vperpendicular),bins = 1000)\n",
    "plt.xlim(0.5,4)"
   ]
  },
  {
   "cell_type": "markdown",
   "metadata": {},
   "source": [
    "#### Intento de hallar i para velocidades + y -\n",
    "```\n",
    "def findPos(array,elem):\n",
    "    res = 8008135\n",
    "    for i in range(len(array)):\n",
    "        actual = array[i]\n",
    "        if(actual == elem):\n",
    "            res = i\n",
    "    return res\n",
    "\n",
    "vparaPOS = []\n",
    "vparaNEG = []\n",
    "for i in Vparalela:\n",
    "    if(i>0):\n",
    "        vparaPOS.append(i)\n",
    "    else:\n",
    "        vparaNEG.append(i)\n",
    "\n",
    "\n",
    "vparaPOSi = []\n",
    "vparaNEGi = []\n",
    "\n",
    "for i in vparaPOS:\n",
    "    b = findPos(Vparalela,i)\n",
    "    vparaPOSi.append(b)\n",
    "\n",
    "for i in vparaNEG:\n",
    "    a = findPos(Vparalela,i)\n",
    "    vparaNEGi.append(a)\n",
    "vparaPOSi = Vparalela[Vparalela > 0]\n",
    "\n",
    "```\n",
    "\n",
    "#### Optimización de código para hallar i de las velocidades + y -\n",
    "\n",
    "```\n",
    "vparaPOS = Vparalela[Vparalela > 0]\n",
    "vparaNEG = Vparalela[Vparalela < 0]\n",
    "\n",
    "vparaPOSi = []\n",
    "vparaNEGi = []\n",
    "\n",
    "for elem in vparaPOS:\n",
    "    vparaPOSi.append((Vparalela.tolist()).index(elem))\n",
    "for i in vparaNEG:\n",
    "    vparaNEGi.append((Vparalela.tolist()).index(i))\n",
    "\n",
    "```\n",
    "#### De aquí obtenemos los indices de las diferentes velocidades paralelas \n",
    "\n",
    "\n",
    "#### Realizamos un procedimiento similar para obtener los indices de velocidades paralelas negativas menores a 150 km/s.\n",
    "```\n",
    "velparneg_contr = velparneg[velparneg<=-150]\n",
    "velparneg_contr_i = []\n",
    "for i in velparneg_contr:\n",
    "    velparneg_contr_i.append((velpar.tolist()).index(i))\n",
    "```\n",
    "\n",
    "\n",
    "#### Obtenemos indices para distancias menores a 2Mpc.\n",
    "```\n",
    "Rconst = R[R<=2]\n",
    "Rconsti = [] \n",
    "for i in Rconst:\n",
    "    Rconsti.append((R.tolist()).index(i))\n",
    "```\n",
    "\n",
    "##### Cargamos los datos obtenidos por los paso anteriores:"
   ]
  },
  {
   "cell_type": "code",
   "execution_count": 13,
   "metadata": {
    "collapsed": false
   },
   "outputs": [],
   "source": [
    "velpara_restringida_i = loadtxt('velparneg_contr_i.txt')\n",
    "distancia_restringida_i = loadtxt('Rconsti.txt')\n",
    "\n",
    "\n",
    "Velpara_restringida_i = np.int_(velpara_restringida_i)\n",
    "Distancia_restringida_i = np.int_(distancia_restringida_i)"
   ]
  },
  {
   "cell_type": "code",
   "execution_count": 14,
   "metadata": {
    "collapsed": true
   },
   "outputs": [],
   "source": [
    "velpara_150neg = Vparalela[Velpara_restringida_i]\n",
    "dis_velpara_150neg = R[Velpara_restringida_i]\n",
    "velper_150 = Vperpendicular[Velpara_restringida_i]"
   ]
  },
  {
   "cell_type": "markdown",
   "metadata": {},
   "source": [
    "### Scatter plot"
   ]
  },
  {
   "cell_type": "code",
   "execution_count": null,
   "metadata": {
    "collapsed": true
   },
   "outputs": [],
   "source": [
    "plt.figure(figsize=(10,50))\n",
    "plt.hist2d(velper_150,velpara_150neg, bins=100,cmap='gnuplot');\n",
    "xlim(0,4)\n",
    "#colorbar()\n",
    "savefig('Prueba2.png')"
   ]
  },
  {
   "cell_type": "code",
   "execution_count": null,
   "metadata": {
    "collapsed": false
   },
   "outputs": [],
   "source": [
    "plot(dis_velpara_150neg,velpara_150neg,'o',color='r',ms = 3,label='Distancia y Velocidad Paralela')\n",
    "xLine = zeros(400)\n",
    "x = linspace(0,100)\n",
    "y = -70*x\n",
    "plot(xLine)\n",
    "plot(x,y)\n",
    "scatter(0,0,color='k',s=100)\n",
    "xlim(-1.5,20)\n",
    "ylim(-160,50)\n",
    "legend(loc='best',frameon=False)"
   ]
  },
  {
   "cell_type": "code",
   "execution_count": null,
   "metadata": {
    "collapsed": false
   },
   "outputs": [],
   "source": [
    "plt.figure(figsize=(10,50))\n",
    "plt.hist2d(dis_velpara_150neg,velpara_150neg, bins=100,cmap='gnuplot');\n",
    "xlim(0,4)\n",
    "#colorbar()\n",
    "savefig('Prueba.png')\n"
   ]
  },
  {
   "cell_type": "code",
   "execution_count": null,
   "metadata": {
    "collapsed": true
   },
   "outputs": [],
   "source": []
  },
  {
   "cell_type": "code",
   "execution_count": null,
   "metadata": {
    "collapsed": true
   },
   "outputs": [],
   "source": []
  }
 ],
 "metadata": {
  "kernelspec": {
   "display_name": "Python 3",
   "language": "python",
   "name": "python3"
  },
  "language_info": {
   "codemirror_mode": {
    "name": "ipython",
    "version": 3
   },
   "file_extension": ".py",
   "mimetype": "text/x-python",
   "name": "python",
   "nbconvert_exporter": "python",
   "pygments_lexer": "ipython3",
   "version": "3.5.1"
  }
 },
 "nbformat": 4,
 "nbformat_minor": 0
}

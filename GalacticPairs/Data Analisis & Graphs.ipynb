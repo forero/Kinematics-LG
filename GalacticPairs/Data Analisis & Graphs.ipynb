{
 "cells": [
  {
   "cell_type": "code",
   "execution_count": 4,
   "metadata": {
    "collapsed": false
   },
   "outputs": [
    {
     "name": "stdout",
     "output_type": "stream",
     "text": [
      "Populating the interactive namespace from numpy and matplotlib\n"
     ]
    }
   ],
   "source": [
    "%pylab inline\n",
    "import numpy as np"
   ]
  },
  {
   "cell_type": "code",
   "execution_count": 5,
   "metadata": {
    "collapsed": false
   },
   "outputs": [],
   "source": [
    "data = np.loadtxt('data.txt', skiprows=1)\n",
    "indices = np.loadtxt('pares.txt', dtype=int)"
   ]
  },
  {
   "cell_type": "code",
   "execution_count": 6,
   "metadata": {
    "collapsed": false
   },
   "outputs": [],
   "source": [
    "posiciones = data[:,0:3]\n",
    "velocidades = data[:,3:6]\n",
    "masa = data[:,6:7]"
   ]
  },
  {
   "cell_type": "markdown",
   "metadata": {},
   "source": [
    "### Calculo de Distancias "
   ]
  },
  {
   "cell_type": "code",
   "execution_count": 7,
   "metadata": {
    "collapsed": false
   },
   "outputs": [],
   "source": [
    "pos1 = posiciones[indices[:,0]]\n",
    "pos2 = posiciones[indices[:,1]]\n",
    "\n",
    "r = pos1 - pos2"
   ]
  },
  {
   "cell_type": "code",
   "execution_count": 8,
   "metadata": {
    "collapsed": true
   },
   "outputs": [],
   "source": [
    "r1 = r[:,0]\n",
    "r2 = r[:,1]\n",
    "r3 = r[:,2]\n",
    "\n",
    "R = sqrt(r1**2+r2**2+r3**2)\n",
    "#np.savetxt('distancia.txt',R)"
   ]
  },
  {
   "cell_type": "markdown",
   "metadata": {},
   "source": [
    "### Vector Unitario"
   ]
  },
  {
   "cell_type": "code",
   "execution_count": 9,
   "metadata": {
    "collapsed": true
   },
   "outputs": [],
   "source": [
    "runi1 = r1/R\n",
    "runi2 = r2/R\n",
    "runi3 = r3/R\n",
    "\n",
    "runi = (runi1,runi2,runi3)\n",
    "RUNI = transpose(runi)"
   ]
  },
  {
   "cell_type": "markdown",
   "metadata": {},
   "source": [
    "### Calculo de Masa"
   ]
  },
  {
   "cell_type": "code",
   "execution_count": 10,
   "metadata": {
    "collapsed": false
   },
   "outputs": [],
   "source": [
    "masa1 = masa[indices[:,0]]\n",
    "masa2 = masa[indices[:,1]]\n",
    "MasaT = masa1 + masa2\n",
    "\n",
    "#np.savetxt('MasaTotal.txt',MasaT)"
   ]
  },
  {
   "cell_type": "markdown",
   "metadata": {},
   "source": [
    "### Calculo de Velocidades Relativas"
   ]
  },
  {
   "cell_type": "code",
   "execution_count": 11,
   "metadata": {
    "collapsed": true
   },
   "outputs": [],
   "source": [
    "vel1 = velocidades[indices[:,0]]\n",
    "vel2 = velocidades[indices[:,1]]\n",
    "\n",
    "VelR = vel1 - vel2\n",
    "VelRx = VelR[:,0]\n",
    "VelRy = VelR[:,1]\n",
    "VelRz = VelR[:,2]\n",
    "\n",
    "VelRA = np.sqrt(VelRx**2+VelRy**2+VelRz**2)\n",
    "\n",
    "\n",
    "#np.savetxt('VelRelaAbs.txt', VelRA)"
   ]
  },
  {
   "cell_type": "markdown",
   "metadata": {},
   "source": [
    "### Velocidades Paralelas y Perpendiculares"
   ]
  },
  {
   "cell_type": "code",
   "execution_count": 12,
   "metadata": {
    "collapsed": false
   },
   "outputs": [],
   "source": [
    "Vparalela = RUNI[:,0]*VelR[:,0] + RUNI[:,1]*VelR[:,1] + RUNI[:,2]*VelR[:,2]\n",
    "VparalelaVec1 = RUNI[:,0]*Vparalela, RUNI[:,1]*Vparalela, RUNI[:,2]*Vparalela\n",
    "VparalelaVec = np.transpose(VparalelaVec1)\n",
    "\n",
    "#np.savetxt('VelParalela.txt',Vparalela)\n"
   ]
  },
  {
   "cell_type": "code",
   "execution_count": 13,
   "metadata": {
    "collapsed": false
   },
   "outputs": [],
   "source": [
    "VperpernVec = VelR - VparalelaVec\n",
    "Vperpendicular = np.sqrt(VperpernVec[:,0]**2+VperpernVec[:,1]**2+VperpernVec[:,2]**2)\n",
    "\n",
    "#np.savetxt('VelPerpendicular.txt',Vperpendicular)\n"
   ]
  },
  {
   "cell_type": "markdown",
   "metadata": {},
   "source": [
    "##### Condicionamos los incides para que sus velocidades sean negativas entre 0 y 150 km/s. También, necesitamos distancias menores a 2Mpc. "
   ]
  },
  {
   "cell_type": "code",
   "execution_count": 14,
   "metadata": {
    "collapsed": true
   },
   "outputs": [],
   "source": [
    "indices_cota = (Vparalela > -150.0) & (Vparalela < 0.0) & (R<2.0)"
   ]
  },
  {
   "cell_type": "markdown",
   "metadata": {},
   "source": [
    "### Histogramas de Distancias\n",
    "\n",
    "Definimos una funcion que arroje el valor con mas repeticiones."
   ]
  },
  {
   "cell_type": "code",
   "execution_count": 15,
   "metadata": {
    "collapsed": false
   },
   "outputs": [],
   "source": [
    "def masrepetido(lst):\n",
    "    return max(set(lst), key=lst.count)"
   ]
  },
  {
   "cell_type": "code",
   "execution_count": 16,
   "metadata": {
    "collapsed": false
   },
   "outputs": [
    {
     "name": "stdout",
     "output_type": "stream",
     "text": [
      "0.942001624202419\n"
     ]
    },
    {
     "data": {
      "text/plain": [
       "<matplotlib.text.Text at 0x10c1e0358>"
      ]
     },
     "execution_count": 16,
     "metadata": {},
     "output_type": "execute_result"
    },
    {
     "data": {
      "image/png": "[encoded data removed]",
      "text/plain": [
       "<matplotlib.figure.Figure at 0x10a826be0>"
      ]
     },
     "metadata": {},
     "output_type": "display_data"
    }
   ],
   "source": [
    "R_cota = R[indices_cota]\n",
    "\n",
    "hist(R_cota,bins=100)\n",
    "print(masrepetido(R_cota.tolist()))\n",
    "xlim(0.1,2.5)\n",
    "plot(0.942,570,'o',color='r',label = r'R ~ $9.5 kpc$')\n",
    "plot([0.942,0.942],[0.942,570], '--' ,color='r')\n",
    "legend(loc = \"best\")\n",
    "\n",
    "title('Histogram of Distances')\n",
    "xlabel(r'Distances between pairs $Mpc$')"
   ]
  },
  {
   "cell_type": "code",
   "execution_count": 17,
   "metadata": {
    "collapsed": false
   },
   "outputs": [
    {
     "name": "stdout",
     "output_type": "stream",
     "text": [
      "12.2847533056\n"
     ]
    },
    {
     "data": {
      "text/plain": [
       "<matplotlib.text.Text at 0x11a0b8240>"
      ]
     },
     "execution_count": 17,
     "metadata": {},
     "output_type": "execute_result"
    },
    {
     "data": {
      "image/png": "[encoded data removed]",
      "text/plain": [
       "<matplotlib.figure.Figure at 0x11a0bef60>"
      ]
     },
     "metadata": {},
     "output_type": "display_data"
    }
   ],
   "source": [
    "MasaT_Cota = MasaT[indices_cota]\n",
    "#MasaT_cota = [i[0] for i in MasaT_Cota]\n",
    "print(np.log10(MasaT_Cota.mean()))\n",
    "\n",
    "hist(log10(MasaT_Cota),bins=100)\n",
    "\n",
    "plot(11.8,1450,'o',color='r',label=r'$M_{T}$~$10^{11.8}M_{sun}$')\n",
    "plot([11.8,11.8],[11.8,1450],'--',color='r')\n",
    "legend(loc = \"best\")\n",
    "\n",
    "title('Histogram of Total Mass')\n",
    "xlabel(r'Total Mass $M_{sun}$')\n"
   ]
  },
  {
   "cell_type": "code",
   "execution_count": 42,
   "metadata": {
    "collapsed": false
   },
   "outputs": [
    {
     "name": "stdout",
     "output_type": "stream",
     "text": [
      "2.19414192381\n"
     ]
    },
    {
     "data": {
      "text/plain": [
       "<matplotlib.text.Text at 0x118adf358>"
      ]
     },
     "execution_count": 42,
     "metadata": {},
     "output_type": "execute_result"
    },
    {
     "data": {
      "image/png": "[encoded data removed]",
      "text/plain": [
       "<matplotlib.figure.Figure at 0x1189d7c18>"
      ]
     },
     "metadata": {},
     "output_type": "display_data"
    }
   ],
   "source": [
    "Vperpendicular_cota = Vperpendicular[indices_cota]\n",
    "\n",
    "hist(log10(Vperpendicular_cota),bins=100)\n",
    "#print(masrepetido((log10(Vperpendicular_cota)).tolist()))\n",
    "print(np.log10(Vperpendicular_cota.mean()))\n",
    "\n",
    "plot(1.99,2030,'o',color='r',label=r'$V_{per}$~$97.7 km/s$')\n",
    "plot([1.99,1.99],[1.99,2030],'--',color='r')\n",
    "legend(loc = \"upper left\")\n",
    "\n",
    "xlim(0,3)\n",
    "title('Histogram of Perpendicular Velocities')\n",
    "xlabel(r'Perpendicular Velocities $km/s$')\n"
   ]
  },
  {
   "cell_type": "code",
   "execution_count": 49,
   "metadata": {
    "collapsed": false
   },
   "outputs": [
    {
     "name": "stdout",
     "output_type": "stream",
     "text": [
      "-42.2050117317\n"
     ]
    },
    {
     "data": {
      "text/plain": [
       "<matplotlib.text.Text at 0x113456860>"
      ]
     },
     "execution_count": 49,
     "metadata": {},
     "output_type": "execute_result"
    },
    {
     "data": {
      "image/png": "[encoded data removed]",
      "text/plain": [
       "<matplotlib.figure.Figure at 0x11a008748>"
      ]
     },
     "metadata": {},
     "output_type": "display_data"
    }
   ],
   "source": [
    "Vparalela_cota = Vparalela[indices_cota]\n",
    "\n",
    "hist(Vparalela,bins=100)\n",
    "print(Vparalela.mean())\n",
    "\n",
    "title('Histogram of Paralel Velocities')\n",
    "xlabel(r'Paralel Velocities $km/s$')"
   ]
  },
  {
   "cell_type": "code",
   "execution_count": 20,
   "metadata": {
    "collapsed": false
   },
   "outputs": [],
   "source": [
    "from sklearn import linear_model\n",
    "from sklearn.metrics import r2_score\n",
    "from sklearn.linear_model import Lasso"
   ]
  },
  {
   "cell_type": "code",
   "execution_count": 21,
   "metadata": {
    "collapsed": false
   },
   "outputs": [
    {
     "name": "stdout",
     "output_type": "stream",
     "text": [
      "(42901,)\n"
     ]
    }
   ],
   "source": [
    "print(np.shape(MasaT_Cota[:,0]))"
   ]
  },
  {
   "cell_type": "markdown",
   "metadata": {},
   "source": [
    "#### Realizamos LASSO para predecir las masas:"
   ]
  },
  {
   "cell_type": "code",
   "execution_count": 22,
   "metadata": {
    "collapsed": false
   },
   "outputs": [
    {
     "name": "stderr",
     "output_type": "stream",
     "text": [
      "/Users/sebastianvelasco/anaconda/lib/python3.5/site-packages/ipykernel/__main__.py:5: VisibleDeprecationWarning: using a non-integer number instead of an integer will result in an error in the future\n",
      "/Users/sebastianvelasco/anaconda/lib/python3.5/site-packages/ipykernel/__main__.py:6: VisibleDeprecationWarning: using a non-integer number instead of an integer will result in an error in the future\n"
     ]
    }
   ],
   "source": [
    "X1 = transpose([log10(R_cota),log10(Vperpendicular_cota),log10(abs((Vparalela_cota)))])\n",
    "y1 = log10(MasaT_Cota[:,0])\n",
    "\n",
    "n1 = X1.shape[0]\n",
    "X1_train, y1_train = X1[:n1 / 2], y1[:n1 / 2]\n",
    "X1_test, y1_test = X1[n1 / 2:], y1[n1 / 2:]\n",
    "\n",
    "alpha = 1E-3\n",
    "lasso1 = Lasso(alpha=alpha)\n",
    "\n",
    "y1_pred_lasso = lasso1.fit(X1_train, y1_train).predict(X1_test)"
   ]
  },
  {
   "cell_type": "code",
   "execution_count": 29,
   "metadata": {
    "collapsed": false
   },
   "outputs": [
    {
     "name": "stdout",
     "output_type": "stream",
     "text": [
      "12.009971213810424\n"
     ]
    },
    {
     "data": {
      "text/plain": [
       "<matplotlib.text.Text at 0x115edaac8>"
      ]
     },
     "execution_count": 29,
     "metadata": {},
     "output_type": "execute_result"
    },
    {
     "data": {
      "image/png": "[encoded data removed]",
      "text/plain": [
       "<matplotlib.figure.Figure at 0x115ece6a0>"
      ]
     },
     "metadata": {},
     "output_type": "display_data"
    }
   ],
   "source": [
    "plt.hist(y1_pred_lasso,bins=100)\n",
    "print(masrepetido(y1_pred_lasso.tolist()))\n",
    "\n",
    "plot(12.03,830,'o',color='r',label=r'$M_{T}$~$10^{12.03}$')\n",
    "plot([12.03,12.03],[12.03,830],'--',color='r')\n",
    "legend(loc = \"upper left\")\n",
    "\n",
    "title('LASSO Mass Prediction')\n",
    "xlabel(r' Total Mass LOG10 $M_{sun}$')"
   ]
  },
  {
   "cell_type": "markdown",
   "metadata": {},
   "source": [
    "#### Realizamos LASSO para predecir las Velocidades Perpendiculares"
   ]
  },
  {
   "cell_type": "code",
   "execution_count": 30,
   "metadata": {
    "collapsed": false
   },
   "outputs": [
    {
     "name": "stderr",
     "output_type": "stream",
     "text": [
      "/Users/sebastianvelasco/anaconda/lib/python3.5/site-packages/ipykernel/__main__.py:5: VisibleDeprecationWarning: using a non-integer number instead of an integer will result in an error in the future\n",
      "/Users/sebastianvelasco/anaconda/lib/python3.5/site-packages/ipykernel/__main__.py:6: VisibleDeprecationWarning: using a non-integer number instead of an integer will result in an error in the future\n"
     ]
    }
   ],
   "source": [
    "X2 = transpose([log10(R_cota),log10(abs(Vparalela_cota)),log10(MasaT_Cota[:,0])])\n",
    "y2 = log10(Vperpendicular_cota)\n",
    "\n",
    "n2 = X2.shape[0]\n",
    "X2_train, y2_train = X2[:n2 / 2], y2[:n2 / 2]\n",
    "X2_test, y2_test = X2[n2 / 2:], y2[n2 / 2:]\n",
    "\n",
    "alpha = 1E-3\n",
    "lasso2 = Lasso(alpha=alpha)\n",
    "\n",
    "y2_pred_lasso = lasso2.fit(X2_train, y2_train).predict(X2_test)"
   ]
  },
  {
   "cell_type": "code",
   "execution_count": 41,
   "metadata": {
    "collapsed": false
   },
   "outputs": [
    {
     "name": "stdout",
     "output_type": "stream",
     "text": [
      "1.9050168483490495\n"
     ]
    },
    {
     "data": {
      "text/plain": [
       "<matplotlib.text.Text at 0x118aed5f8>"
      ]
     },
     "execution_count": 41,
     "metadata": {},
     "output_type": "execute_result"
    },
    {
     "data": {
      "image/png": "[encoded data removed]",
      "text/plain": [
       "<matplotlib.figure.Figure at 0x118a67f60>"
      ]
     },
     "metadata": {},
     "output_type": "display_data"
    }
   ],
   "source": [
    "plt.hist(y2_pred_lasso,bins=100)\n",
    "print(masrepetido(y2_pred_lasso.tolist()))\n",
    "\n",
    "plot(1.98,930,'o',color='r',label=r'$V_{per}$~$95.5 km/s$')\n",
    "plot([1.98,1.98],[1.98,930],'--',color='r')\n",
    "legend(loc = \"upper left\")\n",
    "\n",
    "title('LASSO Vel. Perpendicular Prediction')\n",
    "xlabel(r'Velocidad Perpendicular LOG10 $km/s$')"
   ]
  },
  {
   "cell_type": "code",
   "execution_count": null,
   "metadata": {
    "collapsed": true
   },
   "outputs": [],
   "source": []
  }
 ],
 "metadata": {
  "kernelspec": {
   "display_name": "Python 3",
   "language": "python",
   "name": "python3"
  },
  "language_info": {
   "codemirror_mode": {
    "name": "ipython",
    "version": 3
   },
   "file_extension": ".py",
   "mimetype": "text/x-python",
   "name": "python",
   "nbconvert_exporter": "python",
   "pygments_lexer": "ipython3",
   "version": "3.5.2"
  }
 },
 "nbformat": 4,
 "nbformat_minor": 0
}

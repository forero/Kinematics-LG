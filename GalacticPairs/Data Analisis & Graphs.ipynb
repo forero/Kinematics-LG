{
 "cells": [
  {
   "cell_type": "code",
   "execution_count": 2,
   "metadata": {
    "collapsed": false
   },
   "outputs": [
    {
     "name": "stdout",
     "output_type": "stream",
     "text": [
      "Populating the interactive namespace from numpy and matplotlib\n"
     ]
    }
   ],
   "source": [
    "%pylab inline"
   ]
  },
  {
   "cell_type": "code",
   "execution_count": 3,
   "metadata": {
    "collapsed": false
   },
   "outputs": [],
   "source": [
    "d = np.genfromtxt('data.txt')\n",
    "data = d[1:len(d[:])][:]\n",
    "\n",
    "indices = np.loadtxt('pares.txt', dtype=int)"
   ]
  },
  {
   "cell_type": "code",
   "execution_count": 4,
   "metadata": {
    "collapsed": false
   },
   "outputs": [],
   "source": [
    "posiciones = data[0:len(data[:]),0:3]\n",
    "velocidades = data[0:len(data[:]),3:6]\n",
    "masa = data[0:len(data[:]),6:7]"
   ]
  },
  {
   "cell_type": "markdown",
   "metadata": {},
   "source": [
    "### Calculo de Distancias "
   ]
  },
  {
   "cell_type": "code",
   "execution_count": 5,
   "metadata": {
    "collapsed": false
   },
   "outputs": [],
   "source": [
    "pos1 = posiciones[indices[:,0]]\n",
    "pos2 = posiciones[indices[:,1]]\n",
    "\n",
    "r = pos1 - pos2"
   ]
  },
  {
   "cell_type": "code",
   "execution_count": 6,
   "metadata": {
    "collapsed": true
   },
   "outputs": [],
   "source": [
    "r1 = r[:,0]\n",
    "r2 = r[:,1]\n",
    "r3 = r[:,2]\n",
    "\n",
    "R = sqrt(r1**2+r2**2+r3**2)\n",
    "#np.savetxt('distancia.txt',R)"
   ]
  },
  {
   "cell_type": "markdown",
   "metadata": {},
   "source": [
    "### Vector Unitario"
   ]
  },
  {
   "cell_type": "code",
   "execution_count": 7,
   "metadata": {
    "collapsed": true
   },
   "outputs": [],
   "source": [
    "runi1 = r1/R\n",
    "runi2 = r2/R\n",
    "runi3 = r3/R\n",
    "\n",
    "runi = (runi1,runi2,runi3)\n",
    "RUNI = transpose(runi)"
   ]
  },
  {
   "cell_type": "markdown",
   "metadata": {},
   "source": [
    "### Calculo de Masa"
   ]
  },
  {
   "cell_type": "code",
   "execution_count": 8,
   "metadata": {
    "collapsed": false
   },
   "outputs": [],
   "source": [
    "masa1 = masa[indices[:,0]]\n",
    "masa2 = masa[indices[:,1]]\n",
    "MasaT = masa1 + masa2\n",
    "\n",
    "#np.savetxt('MasaTotal.txt',MasaT)"
   ]
  },
  {
   "cell_type": "markdown",
   "metadata": {},
   "source": [
    "### Calculo de Velocidades Relativas"
   ]
  },
  {
   "cell_type": "code",
   "execution_count": 9,
   "metadata": {
    "collapsed": true
   },
   "outputs": [],
   "source": [
    "vel1 = velocidades[indices[:,0]]\n",
    "vel2 = velocidades[indices[:,1]]\n",
    "\n",
    "VelR = vel1 - vel2\n",
    "VelRx = VelR[:,0]\n",
    "VelRy = VelR[:,1]\n",
    "VelRz = VelR[:,2]\n",
    "\n",
    "VelRA = np.sqrt(VelRx**2+VelRy**2+VelRz**2)\n",
    "\n",
    "\n",
    "#np.savetxt('VelRelaAbs.txt', VelRA)"
   ]
  },
  {
   "cell_type": "markdown",
   "metadata": {},
   "source": [
    "### Velocidades Paralelas y Perpendiculares"
   ]
  },
  {
   "cell_type": "code",
   "execution_count": 10,
   "metadata": {
    "collapsed": false
   },
   "outputs": [],
   "source": [
    "Vparalela = RUNI[:,0]*VelR[:,0] + RUNI[:,1]*VelR[:,1] + RUNI[:,2]*VelR[:,2]\n",
    "VparalelaVec1 = RUNI[:,0]*Vparalela, RUNI[:,1]*Vparalela, RUNI[:,2]*Vparalela\n",
    "VparalelaVec = np.transpose(VparalelaVec1)\n",
    "\n",
    "#np.savetxt('VelParalela.txt',Vparalela)\n"
   ]
  },
  {
   "cell_type": "code",
   "execution_count": 11,
   "metadata": {
    "collapsed": false
   },
   "outputs": [],
   "source": [
    "VperpernVec = VelR - VparalelaVec\n",
    "Vperpendicular = np.sqrt(VperpernVec[:,0]**2+VperpernVec[:,1]**2+VperpernVec[:,2]**2)\n",
    "\n",
    "#np.savetxt('VelPerpendicular.txt',Vperpendicular)\n"
   ]
  },
  {
   "cell_type": "markdown",
   "metadata": {},
   "source": [
    "#### Intento de hallar i para velocidades + y -\n",
    "```\n",
    "def findPos(array,elem):\n",
    "    res = 8008135\n",
    "    for i in range(len(array)):\n",
    "        actual = array[i]\n",
    "        if(actual == elem):\n",
    "            res = i\n",
    "    return res\n",
    "\n",
    "vparaPOS = []\n",
    "vparaNEG = []\n",
    "for i in Vparalela:\n",
    "    if(i>0):\n",
    "        vparaPOS.append(i)\n",
    "    else:\n",
    "        vparaNEG.append(i)\n",
    "\n",
    "\n",
    "vparaPOSi = []\n",
    "vparaNEGi = []\n",
    "\n",
    "for i in vparaPOS:\n",
    "    b = findPos(Vparalela,i)\n",
    "    vparaPOSi.append(b)\n",
    "\n",
    "for i in vparaNEG:\n",
    "    a = findPos(Vparalela,i)\n",
    "    vparaNEGi.append(a)\n",
    "vparaPOSi = Vparalela[Vparalela > 0]\n",
    "\n",
    "```\n",
    "\n",
    "#### Optimización de código para hallar i de las velocidades + y -\n",
    "\n",
    "```\n",
    "vparaPOS = Vparalela[Vparalela > 0]\n",
    "vparaNEG = Vparalela[Vparalela < 0]\n",
    "\n",
    "vparaPOSi = []\n",
    "vparaNEGi = []\n",
    "\n",
    "for elem in vparaPOS:\n",
    "    vparaPOSi.append((Vparalela.tolist()).index(elem))\n",
    "for i in vparaNEG:\n",
    "    vparaNEGi.append((Vparalela.tolist()).index(i))\n",
    "\n",
    "```\n",
    "#### De aquí obtenemos los indices de las diferentes velocidades paralelas \n",
    "\n",
    "\n",
    "#### Realizamos un procedimiento similar para obtener los indices de velocidades paralelas negativas menores a 150 km/s.\n",
    "```\n",
    "velparneg_contr = velparneg[velparneg<=-150]\n",
    "velparneg_contr_i = []\n",
    "for i in velparneg_contr:\n",
    "    velparneg_contr_i.append((velpar.tolist()).index(i))\n",
    "```\n",
    "\n",
    "\n",
    "#### Obtenemos indices para distancias menores a 2Mpc.\n",
    "```\n",
    "Rconst = R[R<=2]\n",
    "Rconsti = [] \n",
    "for i in Rconst:\n",
    "    Rconsti.append((R.tolist()).index(i))\n",
    "```\n",
    "\n",
    "##### Generamos un conjunto con ambas restricciones"
   ]
  },
  {
   "cell_type": "markdown",
   "metadata": {
    "collapsed": false
   },
   "source": [
    "```\n",
    "velpara_restringida_i = loadtxt('velparneg_contr_i.txt')\n",
    "distancia_restringida_i = loadtxt('Rconsti.txt')\n",
    "\n",
    "\n",
    "Velpara_restringida_i = np.int_(velpara_restringida_i)\n",
    "Distancia_restringida_i = np.int_(distancia_restringida_i)\n",
    "\n",
    "Restricciones = [i for elemen1 in Velpara_restringida_i for i in Distancia_restringida_i if i == elemen1]\n",
    "\n",
    "savetxt('Restricciones.txt',Restricciones)\n",
    "```\n",
    "##### Cargamos dicho conjunto:"
   ]
  },
  {
   "cell_type": "code",
   "execution_count": 12,
   "metadata": {
    "collapsed": true
   },
   "outputs": [],
   "source": [
    "Indices_cota = loadtxt('pares_cota.txt')\n",
    "indices_cota = np.int_(Indices_cota)"
   ]
  },
  {
   "cell_type": "markdown",
   "metadata": {},
   "source": [
    "### Histogramas de Distancias\n",
    "\n",
    "Definimos una funcion que arroje el valor con mas repeticiones."
   ]
  },
  {
   "cell_type": "code",
   "execution_count": 13,
   "metadata": {
    "collapsed": false
   },
   "outputs": [],
   "source": [
    "def masrepetido(lst):\n",
    "    return max(set(lst), key=lst.count)"
   ]
  },
  {
   "cell_type": "code",
   "execution_count": 14,
   "metadata": {
    "collapsed": false
   },
   "outputs": [
    {
     "name": "stdout",
     "output_type": "stream",
     "text": [
      "0.942001624202419\n"
     ]
    },
    {
     "data": {
      "text/plain": [
       "<matplotlib.text.Text at 0x10bd49748>"
      ]
     },
     "execution_count": 14,
     "metadata": {},
     "output_type": "execute_result"
    },
    {
     "data": {
      "image/png": "[encoded data removed]",
      "text/plain": [
       "<matplotlib.figure.Figure at 0x10a9135c0>"
      ]
     },
     "metadata": {},
     "output_type": "display_data"
    }
   ],
   "source": [
    "R_cota = R[indices_cota[:]]\n",
    "\n",
    "hist(R_cota,bins=10000)\n",
    "print(masrepetido(R_cota.tolist()))\n",
    "xlim(0,3)\n",
    "\n",
    "title('Histograma de Distancias')\n",
    "xlabel('Mpc')"
   ]
  },
  {
   "cell_type": "code",
   "execution_count": 18,
   "metadata": {
    "collapsed": false
   },
   "outputs": [
    {
     "name": "stdout",
     "output_type": "stream",
     "text": [
      "11.57785930100737\n"
     ]
    },
    {
     "data": {
      "text/plain": [
       "<matplotlib.text.Text at 0x131ede1d0>"
      ]
     },
     "execution_count": 18,
     "metadata": {},
     "output_type": "execute_result"
    },
    {
     "data": {
      "image/png": "[encoded data removed]",
      "text/plain": [
       "<matplotlib.figure.Figure at 0x1317c2c50>"
      ]
     },
     "metadata": {},
     "output_type": "display_data"
    }
   ],
   "source": [
    "MasaT_Cota = MasaT[indices_cota[:]]\n",
    "MasaT_cota = [i[0] for i in MasaT_Cota]\n",
    "print(masrepetido(log10(MasaT_cota).tolist()))\n",
    "\n",
    "\n",
    "hist(log10(MasaT_cota),bins=10000)\n",
    "\n",
    "title('Histograma de Masas Totales')\n",
    "xlabel(r'$M_{sun}$')\n"
   ]
  },
  {
   "cell_type": "code",
   "execution_count": 16,
   "metadata": {
    "collapsed": false
   },
   "outputs": [
    {
     "name": "stdout",
     "output_type": "stream",
     "text": [
      "1.7344251103222064\n"
     ]
    },
    {
     "data": {
      "text/plain": [
       "<matplotlib.text.Text at 0x12d06cf28>"
      ]
     },
     "execution_count": 16,
     "metadata": {},
     "output_type": "execute_result"
    },
    {
     "data": {
      "image/png": "[encoded data removed]",
      "text/plain": [
       "<matplotlib.figure.Figure at 0x12d0494a8>"
      ]
     },
     "metadata": {},
     "output_type": "display_data"
    }
   ],
   "source": [
    "Vperpendicular_cota = Vperpendicular[indices_cota[:]]\n",
    "\n",
    "hist(log10(Vperpendicular_cota),bins=10000)\n",
    "print(masrepetido((log10(Vperpendicular_cota)).tolist()))\n",
    "xlim(0,3)\n",
    "title('Histograma de Velocidades Perpendiculares')\n",
    "xlabel('Mpc')\n"
   ]
  },
  {
   "cell_type": "code",
   "execution_count": 17,
   "metadata": {
    "collapsed": false
   },
   "outputs": [
    {
     "name": "stdout",
     "output_type": "stream",
     "text": [
      "-0.7539098205298842\n"
     ]
    },
    {
     "data": {
      "text/plain": [
       "<matplotlib.text.Text at 0x131388128>"
      ]
     },
     "execution_count": 17,
     "metadata": {},
     "output_type": "execute_result"
    },
    {
     "data": {
      "image/png": "[encoded data removed]",
      "text/plain": [
       "<matplotlib.figure.Figure at 0x1313230b8>"
      ]
     },
     "metadata": {},
     "output_type": "display_data"
    }
   ],
   "source": [
    "Vparalela_cota = Vparalela[indices_cota[:]]\n",
    "\n",
    "hist(Vparalela,bins=10000)\n",
    "print(masrepetido(Vparalela_cota.tolist()))\n",
    "\n",
    "\n",
    "title('Histograma de Velocidades Paralelas')\n",
    "xlabel('Mpc')"
   ]
  },
  {
   "cell_type": "code",
   "execution_count": 22,
   "metadata": {
    "collapsed": false
   },
   "outputs": [],
   "source": [
    "from sklearn import linear_model\n",
    "from sklearn.metrics import r2_score\n",
    "from sklearn.linear_model import Lasso"
   ]
  },
  {
   "cell_type": "markdown",
   "metadata": {},
   "source": [
    "#### Realizamos LASSO para predecir las masas:"
   ]
  },
  {
   "cell_type": "code",
   "execution_count": 39,
   "metadata": {
    "collapsed": false
   },
   "outputs": [
    {
     "name": "stderr",
     "output_type": "stream",
     "text": [
      "/Users/sebastianvelasco/anaconda/lib/python3.5/site-packages/ipykernel/__main__.py:5: VisibleDeprecationWarning: using a non-integer number instead of an integer will result in an error in the future\n",
      "/Users/sebastianvelasco/anaconda/lib/python3.5/site-packages/ipykernel/__main__.py:6: VisibleDeprecationWarning: using a non-integer number instead of an integer will result in an error in the future\n"
     ]
    }
   ],
   "source": [
    "X1 = transpose([log10(R_cota),log10(Vperpendicular_cota),log10(abs((Vparalela_cota)))])\n",
    "y1 = log10(MasaT_cota)\n",
    "\n",
    "n1 = X1.shape[0]\n",
    "X1_train, y1_train = X1[:n1 / 2], y1[:n1 / 2]\n",
    "X1_test, y1_test = X1[n1 / 2:], y1[n1 / 2:]\n",
    "\n",
    "alpha = 0.1\n",
    "lasso1 = Lasso(alpha=alpha)\n",
    "\n",
    "y1_pred_lasso = lasso1.fit(X1_train, y1_train).predict(X1_test)"
   ]
  },
  {
   "cell_type": "code",
   "execution_count": 45,
   "metadata": {
    "collapsed": false
   },
   "outputs": [
    {
     "name": "stdout",
     "output_type": "stream",
     "text": [
      "12.017433044415514\n"
     ]
    },
    {
     "data": {
      "text/plain": [
       "<matplotlib.text.Text at 0x160fb2240>"
      ]
     },
     "execution_count": 45,
     "metadata": {},
     "output_type": "execute_result"
    },
    {
     "data": {
      "image/png": "[encoded data removed]",
      "text/plain": [
       "<matplotlib.figure.Figure at 0x161090908>"
      ]
     },
     "metadata": {},
     "output_type": "display_data"
    }
   ],
   "source": [
    "plt.hist(y1_pred_lasso,bins=1000)\n",
    "print(masrepetido(y1_pred_lasso.tolist()))\n",
    "title('LASSO Mass Prediction')\n",
    "xlabel(r' Total Mass LOG10 $M_{sun}$')"
   ]
  },
  {
   "cell_type": "markdown",
   "metadata": {},
   "source": [
    "#### Realizamos LASSO para predecir las Velocidades Perperndiculares"
   ]
  },
  {
   "cell_type": "code",
   "execution_count": 46,
   "metadata": {
    "collapsed": false
   },
   "outputs": [
    {
     "name": "stderr",
     "output_type": "stream",
     "text": [
      "/Users/sebastianvelasco/anaconda/lib/python3.5/site-packages/ipykernel/__main__.py:5: VisibleDeprecationWarning: using a non-integer number instead of an integer will result in an error in the future\n",
      "/Users/sebastianvelasco/anaconda/lib/python3.5/site-packages/ipykernel/__main__.py:6: VisibleDeprecationWarning: using a non-integer number instead of an integer will result in an error in the future\n"
     ]
    }
   ],
   "source": [
    "X2 = transpose([log10(R_cota),log10(abs(Vparalela_cota)),log10(MasaT_cota)])\n",
    "y2 = log10(Vperpendicular_cota)\n",
    "\n",
    "n2 = X2.shape[0]\n",
    "X2_train, y2_train = X2[:n2 / 2], y2[:n2 / 2]\n",
    "X2_test, y2_test = X2[n2 / 2:], y2[n2 / 2:]\n",
    "\n",
    "alpha = 0.01\n",
    "lasso2 = Lasso(alpha=alpha)\n",
    "\n",
    "y2_pred_lasso = lasso2.fit(X2_train, y2_train).predict(X2_test)"
   ]
  },
  {
   "cell_type": "code",
   "execution_count": 48,
   "metadata": {
    "collapsed": false
   },
   "outputs": [
    {
     "name": "stdout",
     "output_type": "stream",
     "text": [
      "1.8960626555220301\n"
     ]
    },
    {
     "data": {
      "text/plain": [
       "<matplotlib.text.Text at 0x16496c438>"
      ]
     },
     "execution_count": 48,
     "metadata": {},
     "output_type": "execute_result"
    },
    {
     "data": {
      "image/png": "[encoded data removed]",
      "text/plain": [
       "<matplotlib.figure.Figure at 0x160f4b7b8>"
      ]
     },
     "metadata": {},
     "output_type": "display_data"
    }
   ],
   "source": [
    "plt.hist(y2_pred_lasso,bins=1000)\n",
    "print(masrepetido(y2_pred_lasso.tolist()))\n",
    "title('LASSO Vel. Perpendicular Prediction')\n",
    "xlabel(r'Velocidad Perpendicular LOG10 $km/s$')"
   ]
  },
  {
   "cell_type": "code",
   "execution_count": null,
   "metadata": {
    "collapsed": true
   },
   "outputs": [],
   "source": []
  }
 ],
 "metadata": {
  "kernelspec": {
   "display_name": "Python 3",
   "language": "python",
   "name": "python3"
  },
  "language_info": {
   "codemirror_mode": {
    "name": "ipython",
    "version": 3
   },
   "file_extension": ".py",
   "mimetype": "text/x-python",
   "name": "python",
   "nbconvert_exporter": "python",
   "pygments_lexer": "ipython3",
   "version": "3.5.2"
  }
 },
 "nbformat": 4,
 "nbformat_minor": 0
}

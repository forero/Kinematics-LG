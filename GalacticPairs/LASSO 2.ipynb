{
 "cells": [
  {
   "cell_type": "code",
   "execution_count": 1,
   "metadata": {
    "collapsed": false
   },
   "outputs": [
    {
     "name": "stdout",
     "output_type": "stream",
     "text": [
      "Populating the interactive namespace from numpy and matplotlib\n"
     ]
    }
   ],
   "source": [
    "import numpy as np\n",
    "%pylab inline\n",
    "import matplotlib.pyplot as plt\n",
    "from sklearn import linear_model\n",
    "from sklearn.metrics import r2_score\n",
    "from sklearn.linear_model import Lasso"
   ]
  },
  {
   "cell_type": "code",
   "execution_count": 2,
   "metadata": {
    "collapsed": false
   },
   "outputs": [],
   "source": [
    "vel_paralela = np.loadtxt('VelParalela.txt')\n",
    "vel_perpendicular = np.loadtxt('VelPerpendicular.txt')\n",
    "distancia = np.loadtxt('distancia.txt')\n",
    "masa = np.loadtxt('MasaTotal.txt')\n",
    "\n",
    "velpara_restringida_i = loadtxt('velparneg_contr_i.txt')\n",
    "distancia_restringida_i = loadtxt('Rconsti.txt')"
   ]
  },
  {
   "cell_type": "code",
   "execution_count": 3,
   "metadata": {
    "collapsed": false
   },
   "outputs": [],
   "source": [
    "Velpara_restringida_i = np.int_(velpara_restringida_i)\n",
    "\n",
    "velpara_150neg = vel_paralela[Velpara_restringida_i]\n",
    "dis_velpara_150neg = distancia[Velpara_restringida_i]\n",
    "velper_150 = vel_perpendicular[Velpara_restringida_i]\n",
    "masa_150 = masa[Velpara_restringida_i]"
   ]
  },
  {
   "cell_type": "code",
   "execution_count": 24,
   "metadata": {
    "collapsed": false
   },
   "outputs": [],
   "source": [
    "X1=np.transpose([log10(dis_velpara_150neg),log10(abs(velpara_150neg)),log10(velper_150)])\n",
    "y1 = log10(masa_150)"
   ]
  },
  {
   "cell_type": "code",
   "execution_count": 25,
   "metadata": {
    "collapsed": false
   },
   "outputs": [
    {
     "name": "stderr",
     "output_type": "stream",
     "text": [
      "/Users/sebastianvelasco/anaconda/lib/python3.5/site-packages/ipykernel/__main__.py:2: VisibleDeprecationWarning: using a non-integer number instead of an integer will result in an error in the future\n",
      "  from ipykernel import kernelapp as app\n",
      "/Users/sebastianvelasco/anaconda/lib/python3.5/site-packages/ipykernel/__main__.py:3: VisibleDeprecationWarning: using a non-integer number instead of an integer will result in an error in the future\n",
      "  app.launch_new_instance()\n"
     ]
    }
   ],
   "source": [
    "n1 = X1.shape[0]\n",
    "X1_train, y1_train = X1[:n1 / 2], y1[:n1 / 2]\n",
    "X1_test, y1_test = X1[n1 / 2:], y1[n1 / 2:]"
   ]
  },
  {
   "cell_type": "code",
   "execution_count": 26,
   "metadata": {
    "collapsed": false
   },
   "outputs": [],
   "source": [
    "alpha = 0.1\n",
    "lasso1 = Lasso(alpha=alpha)\n",
    "\n",
    "y1_pred_lasso = lasso1.fit(X1_train, y1_train).predict(X1_test)"
   ]
  },
  {
   "cell_type": "code",
   "execution_count": 28,
   "metadata": {
    "collapsed": false
   },
   "outputs": [
    {
     "data": {
      "text/plain": [
       "<matplotlib.text.Text at 0x1162aa128>"
      ]
     },
     "execution_count": 28,
     "metadata": {},
     "output_type": "execute_result"
    },
    {
     "data": {
      "image/png": "[encoded data removed]",
      "text/plain": [
       "<matplotlib.figure.Figure at 0x115ffb2e8>"
      ]
     },
     "metadata": {},
     "output_type": "display_data"
    }
   ],
   "source": [
    "plt.hist((y1_pred_lasso),bins=1000)\n",
    "plot(12.35,125,'o',color='r')\n",
    "\n",
    "title('LASSO Mass Prediction')\n",
    "xlabel(r'LOG10 $M_{sun}$')"
   ]
  },
  {
   "cell_type": "code",
   "execution_count": 1,
   "metadata": {
    "collapsed": false
   },
   "outputs": [],
   "source": [
    "#plt.hist((y1_test),bins=1000)\n",
    "#xlim(10,14)\n",
    "#plot(11.8,118,'o',color='r')\n",
    "#title('Data Mass')\n",
    "#xlabel(r'LOG10 $M_{sun}$')"
   ]
  },
  {
   "cell_type": "code",
   "execution_count": 31,
   "metadata": {
    "collapsed": true
   },
   "outputs": [],
   "source": [
    "Distancia_restringida_i = np.int_(distancia_restringida_i)\n",
    "\n",
    "velpara_2Mpc = vel_paralela[Distancia_restringida_i]\n",
    "dis_velpara_2Mpc = distancia[Distancia_restringida_i]\n",
    "velper_2Mpc = vel_perpendicular[Distancia_restringida_i]\n",
    "masa_2Mpc = masa[Distancia_restringida_i]"
   ]
  },
  {
   "cell_type": "code",
   "execution_count": 32,
   "metadata": {
    "collapsed": true
   },
   "outputs": [],
   "source": [
    "X2=np.transpose([log10(dis_velpara_2Mpc),log10(abs(velpara_2Mpc)),log10(masa_2Mpc)])\n",
    "y2 = log10(velper_2Mpc)"
   ]
  },
  {
   "cell_type": "code",
   "execution_count": 33,
   "metadata": {
    "collapsed": false
   },
   "outputs": [
    {
     "name": "stderr",
     "output_type": "stream",
     "text": [
      "/Users/sebastianvelasco/anaconda/lib/python3.5/site-packages/ipykernel/__main__.py:2: VisibleDeprecationWarning: using a non-integer number instead of an integer will result in an error in the future\n",
      "  from ipykernel import kernelapp as app\n",
      "/Users/sebastianvelasco/anaconda/lib/python3.5/site-packages/ipykernel/__main__.py:3: VisibleDeprecationWarning: using a non-integer number instead of an integer will result in an error in the future\n",
      "  app.launch_new_instance()\n"
     ]
    }
   ],
   "source": [
    "n2 = X2.shape[0]\n",
    "X2_train, y2_train = X2[:n2 / 2], y2[:n2 / 2]\n",
    "X2_test, y2_test = X2[n2 / 2:], y2[n2 / 2:]"
   ]
  },
  {
   "cell_type": "code",
   "execution_count": 34,
   "metadata": {
    "collapsed": false
   },
   "outputs": [],
   "source": [
    "alpha = 0.01\n",
    "lasso2 = Lasso(alpha=alpha)\n",
    "\n",
    "y2_pred_lasso = lasso2.fit(X2_train, y2_train).predict(X2_test)"
   ]
  },
  {
   "cell_type": "code",
   "execution_count": 36,
   "metadata": {
    "collapsed": false
   },
   "outputs": [
    {
     "data": {
      "text/plain": [
       "(0, 5)"
      ]
     },
     "execution_count": 36,
     "metadata": {},
     "output_type": "execute_result"
    },
    {
     "data": {
      "image/png": "[encoded data removed]",
      "text/plain": [
       "<matplotlib.figure.Figure at 0x11ca67eb8>"
      ]
     },
     "metadata": {},
     "output_type": "display_data"
    }
   ],
   "source": [
    "plt.hist(y2_pred_lasso,bins=1000)\n",
    "xlim(0,5)"
   ]
  },
  {
   "cell_type": "code",
   "execution_count": null,
   "metadata": {
    "collapsed": true
   },
   "outputs": [],
   "source": []
  }
 ],
 "metadata": {
  "kernelspec": {
   "display_name": "Python 3",
   "language": "python",
   "name": "python3"
  },
  "language_info": {
   "codemirror_mode": {
    "name": "ipython",
    "version": 3
   },
   "file_extension": ".py",
   "mimetype": "text/x-python",
   "name": "python",
   "nbconvert_exporter": "python",
   "pygments_lexer": "ipython3",
   "version": "3.5.2"
  }
 },
 "nbformat": 4,
 "nbformat_minor": 0
}
